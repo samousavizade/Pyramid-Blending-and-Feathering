{
 "cells": [
  {
   "cell_type": "markdown",
   "metadata": {},
   "source": [
    "<h2 dir=\"rtl\">\n",
    "    شرح پروژه\n",
    "</h2>\n",
    "\n",
    "<div dir=\"rtl\">\n",
    "در این پروژه با استفاده از روش \n",
    "Feathering\n",
    "و هرم \n",
    "Laplacian\n",
    "تصاویر مرجع و هدف در فرکانس های مختلف با هم ادغام میشود. در فرکانس های پایین\n",
    "Feathering \n",
    "به صورت قوی و شدید انجام میشود و در فرکانس های بالا \n",
    "Feathering \n",
    "به صورت ضعیف انجام میشود. به این ترتیب کلیت تصاویر با هم ادغام \n",
    "میشود ولی جزییات هر قسمت از هر تصویر خود خواهد بود.\n",
    "\n",
    "این کار را می توان به این صورت انجام داد که از تصاویر هموارشده به اندازه تصاویر اصلی به عنوان تصویر با\n",
    "فرکانس پایین استفاده نمایید و برای \n",
    "Feathering\n",
    "قوی هموارکردن ماسک باینری را قویتر انجام داد، یعنی با فیلتر\n",
    "بزرگتری هموار کرد. همچنین، برای فرکانس های بالا می میتوان از \n",
    "Laplacian\n",
    " تصاویر با اندازه تصاویر اصلی استفاده\n",
    "کرده و هموار کردن ماسک باینری را با فیلتر کوچکتری انجام داد. همچنین، می میتوان یک هرم\n",
    "(Pyramid)\n",
    " ساخت و در تمام\n",
    "سطح های هرم ادغام کردن را با فیلتر هموارسازی به یک اندازه ثابت روی ماسک باینری انجام داد. تعداد سطح\n",
    "های هرم را میتوان به صورت دستی مشخص کرد.\n",
    "</div>"
   ]
  },
  {
   "cell_type": "markdown",
   "metadata": {},
   "source": [
    "## توضیحات\n",
    "\n",
    "کلاس \n",
    "`PolygonMaker` \n",
    "با استفاده از نقاط کلیک شده یک چندضلعی میسازد و به کمک کلاس \n",
    "`PolygonMover`\n",
    "میتوان چندضلعی را روی تصویر\n",
    "target\n",
    "حرکت داد. بعد از این مرحله کلاس\n",
    "`PyramidBlender`\n",
    "با استفاده از\n",
    "**روش Feathering و هرم Laplacian**\n",
    "به کمک\n",
    "Mask\n",
    "ایجاد شده توسط کاربر\n",
    "  تصویر\n",
    "Blend\n",
    "شده ساخته میشود."
   ]
  },
  {
   "cell_type": "markdown",
   "metadata": {},
   "source": [
    "مراحل الگوریتم \n",
    "Laplacian Pyramid Blending\n",
    "به صورت زیر است:\n",
    "1. برای هر دو تصویر Source و Target به کمک هرم \n",
    "   Gaussian،\n",
    "   هرم \n",
    "   Laplacian\n",
    "   ساخته میشود.\n",
    "   (جزییات این مرحله از الگوریتم در ادامه توضیح داده میشود.)\n",
    "2. برای \n",
    "   Mask\n",
    "   ساخته شده توسط کاربر، هرم \n",
    "   Gaussian \n",
    "   ساخته میشود.\n",
    "\n",
    "<p>\n",
    "تصویر \n",
    "Blend\n",
    "شده نهایی در هر سطح،\n",
    "به کمک هرم \n",
    "Mask،\n",
    "به صورت زیر ساخته میشود:\n",
    "</p>\n",
    "\n",
    "<p>\n",
    "Salam\n",
    "</p>"
   ]
  },
  {
   "cell_type": "markdown",
   "metadata": {},
   "source": [
    "## نتایج\n",
    "\n",
    "\n",
    "| Source | Target | Result |\n",
    "| ------ | ------ | ------ |\n",
    "| <img src=\"./sources/source1.jpg\" alt=\"drawing\" width=\"250\"/> | <img src=\"./targets/target1.jpg\" alt=\"drawing\" width=\"250\"/> | <img src=\"./results/res1.jpg\" alt=\"drawing\" width=\"250\"/> |\n",
    "| <img src=\"./sources/source2.jpg\" alt=\"drawing\" width=\"250\"/> | <img src=\"./targets/target1.jpg\" alt=\"drawing\" width=\"250\"/> | <img src=\"./results/res2.jpg\" alt=\"drawing\" width=\"250\"/> |\n",
    "| <img src=\"./sources/source3.jpg\" alt=\"drawing\" width=\"250\"/> | <img src=\"./targets/target1.jpg\" alt=\"drawing\" width=\"250\"/> | <img src=\"./results/res3.jpg\" alt=\"drawing\" width=\"250\"/> |\n",
    "| <img src=\"./sources/source4.jpg\" alt=\"drawing\" width=\"250\"/> | <img src=\"./targets/target1.jpg\" alt=\"drawing\" width=\"250\"/> | <img src=\"./results/res4.jpg\" alt=\"drawing\" width=\"250\"/> |\n",
    "| <img src=\"./sources/source5.jpg\" alt=\"drawing\" width=\"250\"/> | <img src=\"./targets/target1.jpg\" alt=\"drawing\" width=\"250\"/> | <img src=\"./results/res5.jpg\" alt=\"drawing\" width=\"250\"/> |\n",
    "| <img src=\"./sources/source6.jpg\" alt=\"drawing\" width=\"250\"/> | <img src=\"./targets/target1.jpg\" alt=\"drawing\" width=\"250\"/> | <img src=\"./results/res6.jpg\" alt=\"drawing\" width=\"250\"/> |\n",
    "| <img src=\"./sources/source7.jpg\" alt=\"drawing\" width=\"250\"/> | <img src=\"./targets/target1.jpg\" alt=\"drawing\" width=\"250\"/> | <img src=\"./results/res7.jpg\" alt=\"drawing\" width=\"250\"/> |\n",
    "| <img src=\"./sources/source8.jpg\" alt=\"drawing\" width=\"250\"/> | <img src=\"./targets/target1.jpg\" alt=\"drawing\" width=\"250\"/> | <img src=\"./results/res8.jpg\" alt=\"drawing\" width=\"250\"/> |"
   ]
  }
 ],
 "metadata": {
  "interpreter": {
   "hash": "a0ebfc267f4a7b44e6360165375d376b7715406d7f7a992e90ad755341a1997f"
  },
  "kernelspec": {
   "display_name": "Python 3 (ipykernel)",
   "language": "python",
   "name": "python3"
  },
  "language_info": {
   "codemirror_mode": {
    "name": "ipython",
    "version": 3
   },
   "file_extension": ".py",
   "mimetype": "text/x-python",
   "name": "python",
   "nbconvert_exporter": "python",
   "pygments_lexer": "ipython3",
   "version": "3.8.2"
  }
 },
 "nbformat": 4,
 "nbformat_minor": 2
}
